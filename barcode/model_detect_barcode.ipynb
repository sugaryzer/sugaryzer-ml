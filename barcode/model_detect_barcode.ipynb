{
  "nbformat": 4,
  "nbformat_minor": 0,
  "metadata": {
    "colab": {
      "provenance": []
    },
    "kernelspec": {
      "name": "python3",
      "display_name": "Python 3"
    },
    "language_info": {
      "name": "python"
    }
  },
  "cells": [
    {
      "cell_type": "code",
      "source": [
        "!pip install opencv-python-headless opencv-contrib-python-headless\n"
      ],
      "metadata": {
        "colab": {
          "base_uri": "https://localhost:8080/"
        },
        "id": "_ktlcZlgXh_0",
        "outputId": "33f70735-6ec9-44cc-8594-fcdc9a66f7e0"
      },
      "execution_count": 46,
      "outputs": [
        {
          "output_type": "stream",
          "name": "stdout",
          "text": [
            "Requirement already satisfied: opencv-python-headless in /usr/local/lib/python3.10/dist-packages (4.10.0.84)\n",
            "Requirement already satisfied: opencv-contrib-python-headless in /usr/local/lib/python3.10/dist-packages (4.10.0.84)\n",
            "Requirement already satisfied: numpy>=1.21.2 in /usr/local/lib/python3.10/dist-packages (from opencv-python-headless) (1.26.4)\n"
          ]
        }
      ]
    },
    {
      "cell_type": "code",
      "source": [
        "!apt-get install -y libzbar0\n"
      ],
      "metadata": {
        "colab": {
          "base_uri": "https://localhost:8080/"
        },
        "id": "fSMWoOY8V1qs",
        "outputId": "45025823-1301-45b8-d3b9-8e93de2ce8bf"
      },
      "execution_count": 47,
      "outputs": [
        {
          "output_type": "stream",
          "name": "stdout",
          "text": [
            "Reading package lists... Done\n",
            "Building dependency tree... Done\n",
            "Reading state information... Done\n",
            "libzbar0 is already the newest version (0.23.92-4build2).\n",
            "0 upgraded, 0 newly installed, 0 to remove and 49 not upgraded.\n"
          ]
        }
      ]
    },
    {
      "cell_type": "code",
      "source": [
        "!pip install pyzbar\n"
      ],
      "metadata": {
        "colab": {
          "base_uri": "https://localhost:8080/"
        },
        "id": "0P2ASp9AVStb",
        "outputId": "9cd75d08-322f-4f37-9291-cc15bfefea23"
      },
      "execution_count": 48,
      "outputs": [
        {
          "output_type": "stream",
          "name": "stdout",
          "text": [
            "Requirement already satisfied: pyzbar in /usr/local/lib/python3.10/dist-packages (0.1.9)\n"
          ]
        }
      ]
    },
    {
      "cell_type": "code",
      "execution_count": 49,
      "metadata": {
        "id": "yrl9k9BSOhuT"
      },
      "outputs": [],
      "source": [
        "import os\n",
        "import cv2\n",
        "import numpy as np\n",
        "from PIL import Image\n",
        "from sklearn.model_selection import train_test_split\n",
        "from tensorflow.keras.utils import to_categorical\n",
        "from tensorflow.keras.models import Sequential\n",
        "from tensorflow.keras.layers import Conv2D, MaxPooling2D, Flatten, Dense, Dropout\n",
        "from google.colab import drive\n",
        "from pyzbar.pyzbar import decode, ZBarSymbol\n"
      ]
    },
    {
      "cell_type": "code",
      "source": [
        "# Mount Google Drive\n",
        "drive.mount('/content/drive')"
      ],
      "metadata": {
        "colab": {
          "base_uri": "https://localhost:8080/"
        },
        "id": "vlJzFC2DCxIy",
        "outputId": "461c0867-c9b6-435e-9dab-3d4848cbd01c"
      },
      "execution_count": 50,
      "outputs": [
        {
          "output_type": "stream",
          "name": "stdout",
          "text": [
            "Drive already mounted at /content/drive; to attempt to forcibly remount, call drive.mount(\"/content/drive\", force_remount=True).\n"
          ]
        }
      ]
    },
    {
      "cell_type": "code",
      "source": [
        "# Path ke folder dataset di Google Drive\n",
        "dataset_path = '/content/drive/MyDrive/barcode dataset/barcode/'\n",
        "\n",
        "# Filter semua file gambar valid\n",
        "def is_image_file(filename):\n",
        "    ext = os.path.splitext(filename)[1].lower()\n",
        "    return ext in ['.png', '.jpg', '.jpeg']\n",
        "\n",
        "# Ambil semua file gambar valid\n",
        "valid_images = [f for f in os.listdir(dataset_path) if is_image_file(f)]\n",
        "print(f\"Jumlah file gambar valid: {len(valid_images)}\")\n",
        "\n",
        "# Menampilkan nama beberapa gambar sebagai contoh\n",
        "print(\"Beberapa file gambar:\", valid_images[:5])"
      ],
      "metadata": {
        "colab": {
          "base_uri": "https://localhost:8080/"
        },
        "id": "5weK2Tn4CzdJ",
        "outputId": "ed052d25-3ce7-4646-da25-dcd5c2f064a5"
      },
      "execution_count": 51,
      "outputs": [
        {
          "output_type": "stream",
          "name": "stdout",
          "text": [
            "Jumlah file gambar valid: 108\n",
            "Beberapa file gambar: ['8993137002035.jpg', '8991748011088.jpg', '8998103100685.jpg', '8886008101053.jpg', '46016620035550.png']\n"
          ]
        }
      ]
    },
    {
      "cell_type": "code",
      "source": [
        "# Memproses gambar dan membaca barcode\n",
        "images = []\n",
        "labels = []\n",
        "\n",
        "for img_name in valid_images:\n",
        "    img_path = os.path.join(dataset_path, img_name)\n",
        "    try:\n",
        "        # Verifikasi file gambar menggunakan PIL\n",
        "        with Image.open(img_path) as img:\n",
        "            img.verify()  # Pastikan file valid\n",
        "\n",
        "        # Baca gambar menggunakan OpenCV\n",
        "        img = cv2.imread(img_path, cv2.IMREAD_GRAYSCALE)\n",
        "\n",
        "        # Pastikan gambar berhasil dibaca\n",
        "        if img is None or img.size == 0:\n",
        "            print(f\"Gambar kosong atau tidak dapat dibaca: {img_name}\")\n",
        "            continue\n",
        "\n",
        "        # Preprocessing tambahan untuk meningkatkan deteksi\n",
        "        img = cv2.resize(img, (300, 300))\n",
        "        _, img = cv2.threshold(img, 0, 255, cv2.THRESH_BINARY + cv2.THRESH_OTSU)\n",
        "\n",
        "        # Decode barcode menggunakan pyzbar\n",
        "        decoded_objects = decode(img, symbols=[ZBarSymbol.EAN13, ZBarSymbol.CODE128])\n",
        "        if not decoded_objects:\n",
        "            print(f\"Barcode di {img_name}: error.\")\n",
        "            continue\n",
        "\n",
        "        # Ambil data dari barcode\n",
        "        for obj in decoded_objects:\n",
        "            barcode_data = obj.data.decode('utf-8')\n",
        "            labels.append(int(barcode_data))\n",
        "            images.append(cv2.resize(img, (128, 128)))\n",
        "            print(f\"Barcode di {img_name}: {barcode_data}\")\n",
        "\n",
        "    except Exception as e:\n",
        "        # Log error\n",
        "        print(f\"Gagal memproses {img_name}: {e}\")\n",
        "\n",
        "# Konversi ke array numpy\n",
        "images = np.array(images).astype('float32') / 255.0  # Normalisasi pixel\n",
        "labels = np.array(labels)"
      ],
      "metadata": {
        "colab": {
          "base_uri": "https://localhost:8080/"
        },
        "id": "NDMlT4VCRaCz",
        "outputId": "1071efef-1446-4bbd-9800-55d010974f34"
      },
      "execution_count": 52,
      "outputs": [
        {
          "output_type": "stream",
          "name": "stdout",
          "text": [
            "Barcode di 8993137002035.jpg: 8993137002035\n",
            "Barcode di 8991748011088.jpg: 8991748011088\n",
            "Barcode di 8998103100685.jpg: 8998103100685\n",
            "Barcode di 8886008101053.jpg: 8886008101053\n",
            "Barcode di 46016620035550.png: 4601662003550\n",
            "Barcode di 8992745550396.jpg: 8992745550396\n",
            "Barcode di 5707119036832.jpg: 5707119036832\n",
            "Barcode di 4897026614122.jpg: 4897026614122\n",
            "Barcode di 3374650299174.jpg: 3374650299174\n",
            "Barcode di 6957303864508 (1).jpg: 6957303864508\n",
            "Barcode di 8993200669134.jpg: 8993200669134\n",
            "Barcode di 859174003955.png: 0859174003955\n",
            "Barcode di 051000063922.png: 0051000063922\n",
            "Barcode di 639277549730.png: 0639277549730\n",
            "Barcode di 850019194197.png: 0850019194197\n",
            "Barcode di 684765870155.png: 0684765870155\n",
            "Barcode di 8901595863051.png: 8901595863051\n",
            "Barcode di 4606272009671.png: 4606272009671\n",
            "Barcode di 4607051154063.png: error.\n",
            "Barcode di 4607008160338.png: 4607008160338\n",
            "Barcode di 4665300017811.png: 4665300017811\n",
            "Barcode di 8886022941048.jpg: 8886022941048\n",
            "Barcode di 3607343588492.jpg: 3607343588492\n",
            "Barcode di 5000218005687.png: 5000218005687\n",
            "Barcode di 8999777007058.jpg: 8999777007058\n",
            "Barcode di 8998866107112.jpg: 8998866107112\n",
            "Barcode di 4902430553643.jpg: 4902430553643\n",
            "Barcode di 8992727007948 (1).jpg: 8992727007948\n",
            "Barcode di 8992761136161.jpg: 8992761136161\n",
            "Barcode di 071930000156.png: 0071930000156\n",
            "Barcode di 8996001600269.jpg: 8996001600269\n",
            "Barcode di 8992750540405.jpg: 8992750540405\n",
            "Barcode di 8997012330770.jpg: 8991072330770\n",
            "Barcode di 8997012330770.jpg: 8997012330770\n",
            "Barcode di 8993176811094.jpg: 8993176811094\n",
            "Barcode di 7622201105716.png: 7622201105716\n",
            "Barcode di 4650065524506.png: 4650065524506\n",
            "Barcode di 8992779269103.jpg: 8992779269103\n",
            "Barcode di 5900516690915.png: 5900516690915\n",
            "Barcode di 4606068026776.png: error.\n",
            "Barcode di 4601780016814.png: 4601780016814\n",
            "Barcode di 4607100622093.png: 4607100622093\n",
            "Barcode di 7622210453853.png: 7622210453853\n",
            "Barcode di 4620011583154.png: 4620011583154\n",
            "Barcode di 4600935300105.png: 4600935300105\n",
            "Barcode di 4005900172112.png: 4005900172112\n",
            "Barcode di 2010002996414.png: 2010002996414\n",
            "Barcode di 4607065734091.png: 4607065734091\n",
            "Barcode di 4602701303259.png: error.\n",
            "Barcode di 46206176.png: error.\n",
            "Barcode di 4680002312873 (1).png: 4680002312873\n",
            "Barcode di 4605922001812.png: 4605922001812\n",
            "Barcode di 4603290004817 (1).png: 4603290004817\n",
            "Barcode di 4680002312873.png: 4680002312873\n",
            "Barcode di 4820176893086.png: 4820176893086\n",
            "Barcode di 2005282881000.png: 2005282881000\n",
            "Barcode di 5995327275147.png: 5995327275147\n",
            "Barcode di 4670016720320.png: 4670016720320\n",
            "Barcode di 4605246006333.png: error.\n",
            "Barcode di 4603566931953.png: error.\n",
            "Barcode di 3574661171883.png: error.\n",
            "Barcode di 4610007391108.png: error.\n",
            "Barcode di 4620754103367.png: 4620754103367\n",
            "Barcode di 4607084352542.png: error.\n",
            "Barcode di 9785389060128.png: error.\n",
            "Barcode di 4605246017162.png: error.\n",
            "Barcode di 4607065580193.png: 4607065580193\n",
            "Barcode di 4607052430012.png: 4607052430012\n",
            "Barcode di 4631136742784.png: 4631136742784\n",
            "Barcode di 4601669007681.png: 4601669007681\n",
            "Barcode di 4602121008444.png: 4602121008444\n",
            "Barcode di 4607001771555.png: error.\n",
            "Barcode di 4600680000640.png: 4600680000640\n",
            "Barcode di 4640001890031.png: 4640001890031\n",
            "Barcode di 4607003861575.png: error.\n",
            "Barcode di 4600286109112.png: 4600286109112\n",
            "Barcode di 8001841474984.png: 8001841474984\n",
            "Barcode di 4610032770015.png: 4610032770015\n",
            "Barcode di 54491472.png: error.\n",
            "Barcode di 8717644585085.png: 8717644585085\n",
            "Barcode di 7613037059694.png: 7613037059694\n",
            "Barcode di 4607042434877.png: 4607042434877\n",
            "Barcode di 8033123220170.png: 8033123220170\n",
            "Barcode di 4607124893677.png: 4607124893677\n",
            "Barcode di 4602920005491.png: 4602920005491\n",
            "Barcode di 9785171132330.png: 9785171132330\n",
            "Barcode di 5000158071032.png: 5000158071032\n",
            "Barcode di 4610144802055.png: 4610144802055\n",
            "Barcode di 8992727007948.jpg: 8992727007948\n",
            "Barcode di 46177889.png: error.\n",
            "Barcode di 4902430110747.jpg: 4902430110747\n",
            "Barcode di 4605362006217.png: 4605362006217\n",
            "Barcode di 8999999580766.jpg: 8999999580766\n",
            "Barcode di 4607029053077.png: 4607029053077\n",
            "Barcode di 8998899995090.jpg: 8998899995090\n",
            "Barcode di 4606038067754.png: 4606038067754\n",
            "Barcode di 8992222053013.jpg: 8992222053013\n",
            "Barcode di 4600778009036.png: 4600778009036\n",
            "Barcode di 4604248000554.png: 4604248000554\n",
            "Barcode di 4891338007962.jpg: 4891338007962\n",
            "Barcode di 4603290004817.png: 4603290004817\n",
            "Barcode di 4600699514817.png: 4600699514817\n",
            "Barcode di 4607163090228.png: 4607163090228\n",
            "Barcode di 4606055005807.png: 4606055005807\n",
            "Barcode di 8990121011073.jpg: 8990121011073\n",
            "Barcode di 6957303864508.jpg: 6957303864508\n",
            "Barcode di 8906120100854.png: 8906120100854\n",
            "Barcode di 8906137431873.png: 8906137431873\n",
            "Barcode di 8594012793064.png: 8594012793064\n"
          ]
        }
      ]
    },
    {
      "cell_type": "code",
      "source": [
        "# Output jumlah gambar yang berhasil diproses\n",
        "print(f\"Jumlah gambar yang berhasil dibaca: {len(images)}\")\n",
        "print(f\"Contoh label: {labels[:5]}\")"
      ],
      "metadata": {
        "colab": {
          "base_uri": "https://localhost:8080/"
        },
        "id": "xI3DjLzVvR-6",
        "outputId": "5b664fea-82e8-49d5-e655-926d843036a3"
      },
      "execution_count": 53,
      "outputs": [
        {
          "output_type": "stream",
          "name": "stdout",
          "text": [
            "Jumlah gambar yang berhasil dibaca: 94\n",
            "Contoh label: [8993137002035 8991748011088 8998103100685 8886008101053 4601662003550]\n"
          ]
        }
      ]
    },
    {
      "cell_type": "code",
      "source": [
        "print(f\"Bentuk gambar: {images.shape}\")\n"
      ],
      "metadata": {
        "colab": {
          "base_uri": "https://localhost:8080/"
        },
        "id": "wcjNyZce3-UP",
        "outputId": "02f31429-78d2-4f14-ac01-abd5dff5cd1a"
      },
      "execution_count": 12,
      "outputs": [
        {
          "output_type": "stream",
          "name": "stdout",
          "text": [
            "Bentuk gambar: (94, 128, 128)\n"
          ]
        }
      ]
    },
    {
      "cell_type": "code",
      "source": [
        "import pandas as pd\n",
        "\n",
        "# Output dari proses deteksi\n",
        "output_text = \"\"\"\n",
        "Barcode di 8993137002035.jpg: 8993137002035\n",
        "Barcode di 8991748011088.jpg: 8991748011088\n",
        "Barcode di 8998103100685.jpg: 8998103100685\n",
        "Barcode di 8886008101053.jpg: 8886008101053\n",
        "Barcode di 46016620035550.png: 4601662003550\n",
        "Barcode di 8992745550396.jpg: 8992745550396\n",
        "Barcode di 5707119036832.jpg: 5707119036832\n",
        "Barcode di 4897026614122.jpg: 4897026614122\n",
        "Barcode di 3374650299174.jpg: 3374650299174\n",
        "Barcode di 6957303864508 (1).jpg: 6957303864508\n",
        "Barcode di 8993200669134.jpg: 8993200669134\n",
        "Barcode di 859174003955.png: 0859174003955\n",
        "Barcode di 051000063922.png: 0051000063922\n",
        "Barcode di 639277549730.png: 0639277549730\n",
        "Barcode di 850019194197.png: 0850019194197\n",
        "Barcode di 684765870155.png: 0684765870155\n",
        "Barcode di 8901595863051.png: 8901595863051\n",
        "Barcode di 4606272009671.png: 4606272009671\n",
        "Barcode di 4607051154063.png: error.\n",
        "Barcode di 4607008160338.png: 4607008160338\n",
        "Barcode di 4665300017811.png: 4665300017811\n",
        "Barcode di 8886022941048.jpg: 8886022941048\n",
        "Barcode di 3607343588492.jpg: 3607343588492\n",
        "Barcode di 5000218005687.png: 5000218005687\n",
        "Barcode di 8999777007058.jpg: 8999777007058\n",
        "Barcode di 8998866107112.jpg: 8998866107112\n",
        "Barcode di 4902430553643.jpg: 4902430553643\n",
        "Barcode di 8992727007948 (1).jpg: 8992727007948\n",
        "Barcode di 8992761136161.jpg: 8992761136161\n",
        "Barcode di 071930000156.png: 0071930000156\n",
        "Barcode di 8996001600269.jpg: 8996001600269\n",
        "Barcode di 8992750540405.jpg: 8992750540405\n",
        "Barcode di 8997012330770.jpg: 8991072330770\n",
        "Barcode di 8997012330770.jpg: 8997012330770\n",
        "Barcode di 8993176811094.jpg: 8993176811094\n",
        "Barcode di 7622201105716.png: 7622201105716\n",
        "Barcode di 4650065524506.png: 4650065524506\n",
        "Barcode di 8992779269103.jpg: 8992779269103\n",
        "Barcode di 5900516690915.png: 5900516690915\n",
        "Barcode di 4606068026776.png: error.\n",
        "Barcode di 4601780016814.png: 4601780016814\n",
        "Barcode di 4607100622093.png: 4607100622093\n",
        "Barcode di 7622210453853.png: 7622210453853\n",
        "Barcode di 4620011583154.png: 4620011583154\n",
        "Barcode di 4600935300105.png: 4600935300105\n",
        "Barcode di 4005900172112.png: 4005900172112\n",
        "Barcode di 2010002996414.png: 2010002996414\n",
        "Barcode di 4607065734091.png: 4607065734091\n",
        "Barcode di 4602701303259.png: error.\n",
        "Barcode di 46206176.png: error.\n",
        "Barcode di 4680002312873 (1).png: 4680002312873\n",
        "Barcode di 4605922001812.png: 4605922001812\n",
        "Barcode di 4603290004817 (1).png: 4603290004817\n",
        "Barcode di 4680002312873.png: 4680002312873\n",
        "Barcode di 4820176893086.png: 4820176893086\n",
        "Barcode di 2005282881000.png: 2005282881000\n",
        "Barcode di 5995327275147.png: 5995327275147\n",
        "Barcode di 4670016720320.png: 4670016720320\n",
        "Barcode di 4605246006333.png: error.\n",
        "Barcode di 4603566931953.png: error.\n",
        "Barcode di 3574661171883.png: error.\n",
        "Barcode di 4610007391108.png: error.\n",
        "Barcode di 4620754103367.png: 4620754103367\n",
        "Barcode di 4607084352542.png: error.\n",
        "Barcode di 9785389060128.png: error.\n",
        "Barcode di 4605246017162.png: error.\n",
        "Barcode di 4607065580193.png: 4607065580193\n",
        "Barcode di 4607052430012.png: 4607052430012\n",
        "Barcode di 4631136742784.png: 4631136742784\n",
        "Barcode di 4601669007681.png: 4601669007681\n",
        "Barcode di 4602121008444.png: 4602121008444\n",
        "Barcode di 4607001771555.png: error.\n",
        "Barcode di 4600680000640.png: 4600680000640\n",
        "Barcode di 4640001890031.png: 4640001890031\n",
        "Barcode di 4607003861575.png: error.\n",
        "Barcode di 4600286109112.png: 4600286109112\n",
        "Barcode di 8001841474984.png: 8001841474984\n",
        "Barcode di 4610032770015.png: 4610032770015\n",
        "Barcode di 54491472.png: error.\n",
        "Barcode di 8717644585085.png: 8717644585085\n",
        "Barcode di 7613037059694.png: 7613037059694\n",
        "Barcode di 4607042434877.png: 4607042434877\n",
        "Barcode di 8033123220170.png: 8033123220170\n",
        "Barcode di 4607124893677.png: 4607124893677\n",
        "Barcode di 4602920005491.png: 4602920005491\n",
        "Barcode di 9785171132330.png: 9785171132330\n",
        "Barcode di 5000158071032.png: 5000158071032\n",
        "Barcode di 4610144802055.png: 4610144802055\n",
        "Barcode di 8992727007948.jpg: 8992727007948\n",
        "Barcode di 46177889.png: error.\n",
        "Barcode di 4902430110747.jpg: 4902430110747\n",
        "Barcode di 4605362006217.png: 4605362006217\n",
        "Barcode di 8999999580766.jpg: 8999999580766\n",
        "Barcode di 4607029053077.png: 4607029053077\n",
        "Barcode di 8998899995090.jpg: 8998899995090\n",
        "Barcode di 4606038067754.png: 4606038067754\n",
        "Barcode di 8992222053013.jpg: 8992222053013\n",
        "Barcode di 4600778009036.png: 4600778009036\n",
        "Barcode di 4604248000554.png: 4604248000554\n",
        "Barcode di 4891338007962.jpg: 4891338007962\n",
        "Barcode di 4603290004817.png: 4603290004817\n",
        "Barcode di 4600699514817.png: 4600699514817\n",
        "Barcode di 4607163090228.png: 4607163090228\n",
        "Barcode di 4606055005807.png: 4606055005807\n",
        "Barcode di 8990121011073.jpg: 8990121011073\n",
        "Barcode di 6957303864508.jpg: 6957303864508\n",
        "Barcode di 8906120100854.png: 8906120100854\n",
        "Barcode di 8906137431873.png: 8906137431873\n",
        "Barcode di 8594012793064.png: 8594012793064\n",
        "\"\"\"\n",
        "\n",
        "# Parsing data\n",
        "data = []\n",
        "for line in output_text.strip().split(\"\\n\"):\n",
        "    if \": \" in line:\n",
        "        parts = line.split(\": \")\n",
        "        file_name = parts[0].replace(\"Barcode di \", \"\").strip()\n",
        "        id_barcode = parts[1].strip()\n",
        "        data.append({\"nama_file\": file_name, \"id_barcode\": id_barcode})\n",
        "\n",
        "# Konversi ke DataFrame\n",
        "df = pd.DataFrame(data)\n",
        "\n",
        "# Simpan dataset ke file CSV (opsional)\n",
        "dataset_path = \"barcode_id_dataset.csv\"\n",
        "df.to_csv(dataset_path, index=False)\n",
        "\n",
        "print(\"Dataset berhasil dibuat:\")\n",
        "print(df)"
      ],
      "metadata": {
        "colab": {
          "base_uri": "https://localhost:8080/"
        },
        "id": "Pfk8VxQDzQD_",
        "outputId": "cf553899-a0c5-4726-cf83-b31373939b9f"
      },
      "execution_count": 39,
      "outputs": [
        {
          "output_type": "stream",
          "name": "stdout",
          "text": [
            "Dataset berhasil dibuat:\n",
            "              nama_file     id_barcode\n",
            "0     8993137002035.jpg  8993137002035\n",
            "1     8991748011088.jpg  8991748011088\n",
            "2     8998103100685.jpg  8998103100685\n",
            "3     8886008101053.jpg  8886008101053\n",
            "4    46016620035550.png  4601662003550\n",
            "..                  ...            ...\n",
            "104   8990121011073.jpg  8990121011073\n",
            "105   6957303864508.jpg  6957303864508\n",
            "106   8906120100854.png  8906120100854\n",
            "107   8906137431873.png  8906137431873\n",
            "108   8594012793064.png  8594012793064\n",
            "\n",
            "[109 rows x 2 columns]\n"
          ]
        }
      ]
    },
    {
      "cell_type": "code",
      "source": [
        "import pandas as pd\n",
        "import numpy as np\n",
        "from sklearn.model_selection import train_test_split\n",
        "from sklearn.preprocessing import LabelEncoder\n",
        "from tensorflow.keras.models import Sequential\n",
        "from tensorflow.keras.layers import Embedding, Dense, Flatten\n",
        "from tensorflow.keras.preprocessing.text import Tokenizer\n",
        "from tensorflow.keras.preprocessing.sequence import pad_sequences\n",
        "\n",
        "# 1. Load dataset\n",
        "dataset_path = \"barcode_id_dataset.csv\"\n",
        "df = pd.read_csv(dataset_path)\n",
        "\n",
        "# Buat target binary (1 = benar, 0 = error)\n",
        "df['is_correct'] = df['id_barcode'].apply(lambda x: 0 if x == 'error.' else 1)\n",
        "\n",
        "# 2. Text preprocessing (Tokenize nama_file)\n",
        "tokenizer = Tokenizer()\n",
        "tokenizer.fit_on_texts(df['nama_file'])\n",
        "max_len = max(df['nama_file'].apply(lambda x: len(x.split())))\n",
        "X = tokenizer.texts_to_sequences(df['nama_file'])\n",
        "X = pad_sequences(X, maxlen=max_len)\n",
        "\n",
        "# Target\n",
        "y = df['is_correct'].values\n",
        "\n",
        "# 3. Split data\n",
        "X_train, X_test, y_train, y_test = train_test_split(X, y, test_size=0.2, random_state=42)\n",
        "\n",
        "# 4. Model definition\n",
        "vocab_size = len(tokenizer.word_index) + 1  # Vocabulary size\n",
        "embedding_dim = 50  # Dimensi embedding layer\n",
        "\n",
        "model = Sequential([\n",
        "    Embedding(input_dim=vocab_size, output_dim=embedding_dim, input_length=max_len),\n",
        "    Flatten(),\n",
        "    Dense(64, activation='relu'),\n",
        "    Dense(32, activation='relu'),\n",
        "    Dense(1, activation='sigmoid')  # Binary classification\n",
        "])\n",
        "\n",
        "# 5. Compile model\n",
        "model.compile(optimizer='adam', loss='binary_crossentropy', metrics=['accuracy'])\n",
        "\n",
        "# 6. Train model\n",
        "history = model.fit(X_train, y_train, epochs=10, batch_size=32, validation_data=(X_test, y_test))\n",
        "\n",
        "# 7. Evaluate model\n",
        "loss, accuracy = model.evaluate(X_test, y_test)\n",
        "print(f\"Test Accuracy: {accuracy * 100:.2f}%\")\n"
      ],
      "metadata": {
        "colab": {
          "base_uri": "https://localhost:8080/"
        },
        "id": "pRjnELPd3z4A",
        "outputId": "2a096c8e-c742-4476-d0db-23c35228801e"
      },
      "execution_count": 43,
      "outputs": [
        {
          "output_type": "stream",
          "name": "stderr",
          "text": [
            "/usr/local/lib/python3.10/dist-packages/keras/src/layers/core/embedding.py:90: UserWarning: Argument `input_length` is deprecated. Just remove it.\n",
            "  warnings.warn(\n"
          ]
        },
        {
          "output_type": "stream",
          "name": "stdout",
          "text": [
            "Epoch 1/10\n",
            "\u001b[1m3/3\u001b[0m \u001b[32m━━━━━━━━━━━━━━━━━━━━\u001b[0m\u001b[37m\u001b[0m \u001b[1m3s\u001b[0m 180ms/step - accuracy: 0.5158 - loss: 0.6920 - val_accuracy: 0.8636 - val_loss: 0.6779\n",
            "Epoch 2/10\n",
            "\u001b[1m3/3\u001b[0m \u001b[32m━━━━━━━━━━━━━━━━━━━━\u001b[0m\u001b[37m\u001b[0m \u001b[1m0s\u001b[0m 18ms/step - accuracy: 0.8373 - loss: 0.6723 - val_accuracy: 0.8636 - val_loss: 0.6595\n",
            "Epoch 3/10\n",
            "\u001b[1m3/3\u001b[0m \u001b[32m━━━━━━━━━━━━━━━━━━━━\u001b[0m\u001b[37m\u001b[0m \u001b[1m0s\u001b[0m 21ms/step - accuracy: 0.8412 - loss: 0.6533 - val_accuracy: 0.8636 - val_loss: 0.6402\n",
            "Epoch 4/10\n",
            "\u001b[1m3/3\u001b[0m \u001b[32m━━━━━━━━━━━━━━━━━━━━\u001b[0m\u001b[37m\u001b[0m \u001b[1m0s\u001b[0m 19ms/step - accuracy: 0.8724 - loss: 0.6279 - val_accuracy: 0.8636 - val_loss: 0.6186\n",
            "Epoch 5/10\n",
            "\u001b[1m3/3\u001b[0m \u001b[32m━━━━━━━━━━━━━━━━━━━━\u001b[0m\u001b[37m\u001b[0m \u001b[1m0s\u001b[0m 18ms/step - accuracy: 0.8724 - loss: 0.6007 - val_accuracy: 0.8636 - val_loss: 0.5944\n",
            "Epoch 6/10\n",
            "\u001b[1m3/3\u001b[0m \u001b[32m━━━━━━━━━━━━━━━━━━━━\u001b[0m\u001b[37m\u001b[0m \u001b[1m0s\u001b[0m 19ms/step - accuracy: 0.8920 - loss: 0.5665 - val_accuracy: 0.8636 - val_loss: 0.5677\n",
            "Epoch 7/10\n",
            "\u001b[1m3/3\u001b[0m \u001b[32m━━━━━━━━━━━━━━━━━━━━\u001b[0m\u001b[37m\u001b[0m \u001b[1m0s\u001b[0m 19ms/step - accuracy: 0.8685 - loss: 0.5411 - val_accuracy: 0.8636 - val_loss: 0.5395\n",
            "Epoch 8/10\n",
            "\u001b[1m3/3\u001b[0m \u001b[32m━━━━━━━━━━━━━━━━━━━━\u001b[0m\u001b[37m\u001b[0m \u001b[1m0s\u001b[0m 19ms/step - accuracy: 0.8646 - loss: 0.5050 - val_accuracy: 0.8636 - val_loss: 0.5099\n",
            "Epoch 9/10\n",
            "\u001b[1m3/3\u001b[0m \u001b[32m━━━━━━━━━━━━━━━━━━━━\u001b[0m\u001b[37m\u001b[0m \u001b[1m0s\u001b[0m 18ms/step - accuracy: 0.8529 - loss: 0.4737 - val_accuracy: 0.8636 - val_loss: 0.4797\n",
            "Epoch 10/10\n",
            "\u001b[1m3/3\u001b[0m \u001b[32m━━━━━━━━━━━━━━━━━━━━\u001b[0m\u001b[37m\u001b[0m \u001b[1m0s\u001b[0m 20ms/step - accuracy: 0.8881 - loss: 0.4106 - val_accuracy: 0.8636 - val_loss: 0.4502\n",
            "\u001b[1m1/1\u001b[0m \u001b[32m━━━━━━━━━━━━━━━━━━━━\u001b[0m\u001b[37m\u001b[0m \u001b[1m0s\u001b[0m 29ms/step - accuracy: 0.8636 - loss: 0.4502\n",
            "Test Accuracy: 86.36%\n"
          ]
        }
      ]
    },
    {
      "cell_type": "code",
      "source": [
        "import matplotlib.pyplot as plt\n",
        "\n",
        "# Plotting accuracy\n",
        "plt.figure(figsize=(12, 6))\n",
        "\n",
        "# Accuracy plot\n",
        "plt.subplot(1, 2, 1)\n",
        "plt.plot(history.history['accuracy'], label='Train Accuracy')\n",
        "plt.plot(history.history['val_accuracy'], label='Validation Accuracy')\n",
        "plt.title('Model Accuracy')\n",
        "plt.xlabel('Epochs')\n",
        "plt.ylabel('Accuracy')\n",
        "plt.legend(loc='lower right')\n",
        "\n",
        "# Loss plot\n",
        "plt.subplot(1, 2, 2)\n",
        "plt.plot(history.history['loss'], label='Train Loss')\n",
        "plt.plot(history.history['val_loss'], label='Validation Loss')\n",
        "plt.title('Model Loss')\n",
        "plt.xlabel('Epochs')\n",
        "plt.ylabel('Loss')\n",
        "plt.legend(loc='upper right')\n",
        "\n",
        "plt.tight_layout()\n",
        "plt.show()"
      ],
      "metadata": {
        "colab": {
          "base_uri": "https://localhost:8080/",
          "height": 565
        },
        "id": "hILARJ-T5BtN",
        "outputId": "18eea1f0-9e60-4f05-e31c-a9d49d93627d"
      },
      "execution_count": 44,
      "outputs": [
        {
          "output_type": "display_data",
          "data": {
            "text/plain": [
              "<Figure size 1200x600 with 2 Axes>"
            ],
            "image/png": "[encoded data removed]"
          },
          "metadata": {}
        }
      ]
    }
  ]
}